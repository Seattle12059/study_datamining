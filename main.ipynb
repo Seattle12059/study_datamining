{
 "cells": [
  {
   "metadata": {},
   "cell_type": "markdown",
   "source": "",
   "id": "d86e3afcfd763c41"
  },
  {
   "cell_type": "code",
   "id": "initial_id",
   "metadata": {
    "collapsed": true,
    "ExecuteTime": {
     "end_time": "2024-12-08T09:23:20.943114Z",
     "start_time": "2024-12-08T09:22:41.778997Z"
    }
   },
   "source": "!conda install paddlepaddle-gpu==3.0.0b1 paddlepaddle-cuda=11.8 -c paddle -c nvidia",
   "outputs": [
    {
     "name": "stdout",
     "output_type": "stream",
     "text": [
      "^C\n"
     ]
    }
   ],
   "execution_count": 1
  },
  {
   "metadata": {
    "ExecuteTime": {
     "end_time": "2024-12-08T09:23:22.226390Z",
     "start_time": "2024-12-08T09:23:20.954766Z"
    }
   },
   "cell_type": "code",
   "source": "!pip install paddlenlp",
   "id": "8f707fa1b9a530d0",
   "outputs": [
    {
     "name": "stdout",
     "output_type": "stream",
     "text": [
      "Requirement already satisfied: paddlenlp in c:\\users\\12059\\anaconda3\\envs\\paddlepy38\\lib\\site-packages (2.6.1)\n",
      "Requirement already satisfied: jieba in c:\\users\\12059\\anaconda3\\envs\\paddlepy38\\lib\\site-packages (from paddlenlp) (0.42.1)\n",
      "Requirement already satisfied: colorlog in c:\\users\\12059\\anaconda3\\envs\\paddlepy38\\lib\\site-packages (from paddlenlp) (6.9.0)\n",
      "Requirement already satisfied: colorama in c:\\users\\12059\\anaconda3\\envs\\paddlepy38\\lib\\site-packages (from paddlenlp) (0.4.6)\n",
      "Requirement already satisfied: seqeval in c:\\users\\12059\\anaconda3\\envs\\paddlepy38\\lib\\site-packages (from paddlenlp) (1.2.2)\n",
      "Requirement already satisfied: dill<0.3.5 in c:\\users\\12059\\anaconda3\\envs\\paddlepy38\\lib\\site-packages (from paddlenlp) (0.3.4)\n",
      "Requirement already satisfied: multiprocess<=0.70.12.2 in c:\\users\\12059\\anaconda3\\envs\\paddlepy38\\lib\\site-packages (from paddlenlp) (0.70.12.2)\n",
      "Requirement already satisfied: datasets>=2.0.0 in c:\\users\\12059\\anaconda3\\envs\\paddlepy38\\lib\\site-packages (from paddlenlp) (3.1.0)\n",
      "Requirement already satisfied: tqdm in c:\\users\\12059\\anaconda3\\envs\\paddlepy38\\lib\\site-packages (from paddlenlp) (4.67.1)\n",
      "Requirement already satisfied: paddlefsl in c:\\users\\12059\\anaconda3\\envs\\paddlepy38\\lib\\site-packages (from paddlenlp) (1.1.0)\n",
      "Requirement already satisfied: sentencepiece in c:\\users\\12059\\anaconda3\\envs\\paddlepy38\\lib\\site-packages (from paddlenlp) (0.2.0)\n",
      "Requirement already satisfied: huggingface-hub>=0.11.1 in c:\\users\\12059\\anaconda3\\envs\\paddlepy38\\lib\\site-packages (from paddlenlp) (0.26.5)\n",
      "Requirement already satisfied: onnx>=1.10.0 in c:\\users\\12059\\anaconda3\\envs\\paddlepy38\\lib\\site-packages (from paddlenlp) (1.17.0)\n",
      "Requirement already satisfied: protobuf==3.20.2 in c:\\users\\12059\\anaconda3\\envs\\paddlepy38\\lib\\site-packages (from paddlenlp) (3.20.2)\n",
      "Requirement already satisfied: paddle2onnx in c:\\users\\12059\\anaconda3\\envs\\paddlepy38\\lib\\site-packages (from paddlenlp) (1.3.1)\n",
      "Requirement already satisfied: Flask-Babel in c:\\users\\12059\\anaconda3\\envs\\paddlepy38\\lib\\site-packages (from paddlenlp) (4.0.0)\n",
      "Requirement already satisfied: visualdl in c:\\users\\12059\\anaconda3\\envs\\paddlepy38\\lib\\site-packages (from paddlenlp) (2.5.3)\n",
      "Requirement already satisfied: fastapi in c:\\users\\12059\\anaconda3\\envs\\paddlepy38\\lib\\site-packages (from paddlenlp) (0.115.6)\n",
      "Requirement already satisfied: uvicorn in c:\\users\\12059\\anaconda3\\envs\\paddlepy38\\lib\\site-packages (from paddlenlp) (0.32.1)\n",
      "Requirement already satisfied: typer in c:\\users\\12059\\anaconda3\\envs\\paddlepy38\\lib\\site-packages (from paddlenlp) (0.15.1)\n",
      "Requirement already satisfied: rich in c:\\users\\12059\\anaconda3\\envs\\paddlepy38\\lib\\site-packages (from paddlenlp) (13.9.4)\n",
      "Requirement already satisfied: safetensors in c:\\users\\12059\\anaconda3\\envs\\paddlepy38\\lib\\site-packages (from paddlenlp) (0.4.5)\n",
      "Requirement already satisfied: filelock in c:\\users\\12059\\anaconda3\\envs\\paddlepy38\\lib\\site-packages (from datasets>=2.0.0->paddlenlp) (3.16.1)\n",
      "Requirement already satisfied: numpy>=1.17 in c:\\users\\12059\\anaconda3\\envs\\paddlepy38\\lib\\site-packages (from datasets>=2.0.0->paddlenlp) (1.24.3)\n",
      "Requirement already satisfied: pyarrow>=15.0.0 in c:\\users\\12059\\anaconda3\\envs\\paddlepy38\\lib\\site-packages (from datasets>=2.0.0->paddlenlp) (17.0.0)\n",
      "Requirement already satisfied: pandas in c:\\users\\12059\\anaconda3\\envs\\paddlepy38\\lib\\site-packages (from datasets>=2.0.0->paddlenlp) (2.0.3)\n",
      "Requirement already satisfied: requests>=2.32.2 in c:\\users\\12059\\anaconda3\\envs\\paddlepy38\\lib\\site-packages (from datasets>=2.0.0->paddlenlp) (2.32.3)\n",
      "Requirement already satisfied: xxhash in c:\\users\\12059\\anaconda3\\envs\\paddlepy38\\lib\\site-packages (from datasets>=2.0.0->paddlenlp) (3.5.0)\n",
      "Requirement already satisfied: fsspec<=2024.9.0,>=2023.1.0 in c:\\users\\12059\\anaconda3\\envs\\paddlepy38\\lib\\site-packages (from fsspec[http]<=2024.9.0,>=2023.1.0->datasets>=2.0.0->paddlenlp) (2024.9.0)\n",
      "Requirement already satisfied: aiohttp in c:\\users\\12059\\anaconda3\\envs\\paddlepy38\\lib\\site-packages (from datasets>=2.0.0->paddlenlp) (3.10.11)\n",
      "Requirement already satisfied: packaging in c:\\users\\12059\\anaconda3\\envs\\paddlepy38\\lib\\site-packages (from datasets>=2.0.0->paddlenlp) (24.1)\n",
      "Requirement already satisfied: pyyaml>=5.1 in c:\\users\\12059\\anaconda3\\envs\\paddlepy38\\lib\\site-packages (from datasets>=2.0.0->paddlenlp) (6.0.2)\n",
      "Requirement already satisfied: typing-extensions>=3.7.4.3 in c:\\users\\12059\\anaconda3\\envs\\paddlepy38\\lib\\site-packages (from huggingface-hub>=0.11.1->paddlenlp) (4.12.2)\n",
      "Requirement already satisfied: starlette<0.42.0,>=0.40.0 in c:\\users\\12059\\anaconda3\\envs\\paddlepy38\\lib\\site-packages (from fastapi->paddlenlp) (0.41.3)\n",
      "Requirement already satisfied: pydantic!=1.8,!=1.8.1,!=2.0.0,!=2.0.1,!=2.1.0,<3.0.0,>=1.7.4 in c:\\users\\12059\\anaconda3\\envs\\paddlepy38\\lib\\site-packages (from fastapi->paddlenlp) (2.10.3)\n",
      "Requirement already satisfied: Babel>=2.12 in c:\\users\\12059\\anaconda3\\envs\\paddlepy38\\lib\\site-packages (from Flask-Babel->paddlenlp) (2.16.0)\n",
      "Requirement already satisfied: Flask>=2.0 in c:\\users\\12059\\anaconda3\\envs\\paddlepy38\\lib\\site-packages (from Flask-Babel->paddlenlp) (3.0.3)\n",
      "Requirement already satisfied: Jinja2>=3.1 in c:\\users\\12059\\anaconda3\\envs\\paddlepy38\\lib\\site-packages (from Flask-Babel->paddlenlp) (3.1.4)\n",
      "Requirement already satisfied: pytz>=2022.7 in c:\\users\\12059\\anaconda3\\envs\\paddlepy38\\lib\\site-packages (from Flask-Babel->paddlenlp) (2024.1)\n",
      "Requirement already satisfied: markdown-it-py>=2.2.0 in c:\\users\\12059\\anaconda3\\envs\\paddlepy38\\lib\\site-packages (from rich->paddlenlp) (3.0.0)\n",
      "Requirement already satisfied: pygments<3.0.0,>=2.13.0 in c:\\users\\12059\\anaconda3\\envs\\paddlepy38\\lib\\site-packages (from rich->paddlenlp) (2.15.1)\n",
      "Requirement already satisfied: scikit-learn>=0.21.3 in c:\\users\\12059\\anaconda3\\envs\\paddlepy38\\lib\\site-packages (from seqeval->paddlenlp) (1.3.2)\n",
      "Requirement already satisfied: click>=8.0.0 in c:\\users\\12059\\anaconda3\\envs\\paddlepy38\\lib\\site-packages (from typer->paddlenlp) (8.1.7)\n",
      "Requirement already satisfied: shellingham>=1.3.0 in c:\\users\\12059\\anaconda3\\envs\\paddlepy38\\lib\\site-packages (from typer->paddlenlp) (1.5.4)\n",
      "Requirement already satisfied: h11>=0.8 in c:\\users\\12059\\anaconda3\\envs\\paddlepy38\\lib\\site-packages (from uvicorn->paddlenlp) (0.14.0)\n",
      "Requirement already satisfied: bce-python-sdk in c:\\users\\12059\\anaconda3\\envs\\paddlepy38\\lib\\site-packages (from visualdl->paddlenlp) (0.9.23)\n",
      "Requirement already satisfied: Pillow>=7.0.0 in c:\\users\\12059\\anaconda3\\envs\\paddlepy38\\lib\\site-packages (from visualdl->paddlenlp) (10.4.0)\n",
      "Requirement already satisfied: six>=1.14.0 in c:\\users\\12059\\anaconda3\\envs\\paddlepy38\\lib\\site-packages (from visualdl->paddlenlp) (1.16.0)\n",
      "Requirement already satisfied: matplotlib in c:\\users\\12059\\anaconda3\\envs\\paddlepy38\\lib\\site-packages (from visualdl->paddlenlp) (3.7.5)\n",
      "Requirement already satisfied: rarfile in c:\\users\\12059\\anaconda3\\envs\\paddlepy38\\lib\\site-packages (from visualdl->paddlenlp) (4.2)\n",
      "Requirement already satisfied: psutil in c:\\users\\12059\\anaconda3\\envs\\paddlepy38\\lib\\site-packages (from visualdl->paddlenlp) (5.9.0)\n",
      "Requirement already satisfied: Werkzeug>=3.0.0 in c:\\users\\12059\\anaconda3\\envs\\paddlepy38\\lib\\site-packages (from Flask>=2.0->Flask-Babel->paddlenlp) (3.0.6)\n",
      "Requirement already satisfied: itsdangerous>=2.1.2 in c:\\users\\12059\\anaconda3\\envs\\paddlepy38\\lib\\site-packages (from Flask>=2.0->Flask-Babel->paddlenlp) (2.2.0)\n",
      "Requirement already satisfied: blinker>=1.6.2 in c:\\users\\12059\\anaconda3\\envs\\paddlepy38\\lib\\site-packages (from Flask>=2.0->Flask-Babel->paddlenlp) (1.8.2)\n",
      "Requirement already satisfied: importlib-metadata>=3.6.0 in c:\\users\\12059\\anaconda3\\envs\\paddlepy38\\lib\\site-packages (from Flask>=2.0->Flask-Babel->paddlenlp) (7.0.1)\n",
      "Requirement already satisfied: aiohappyeyeballs>=2.3.0 in c:\\users\\12059\\anaconda3\\envs\\paddlepy38\\lib\\site-packages (from aiohttp->datasets>=2.0.0->paddlenlp) (2.4.4)\n",
      "Requirement already satisfied: aiosignal>=1.1.2 in c:\\users\\12059\\anaconda3\\envs\\paddlepy38\\lib\\site-packages (from aiohttp->datasets>=2.0.0->paddlenlp) (1.3.1)\n",
      "Requirement already satisfied: attrs>=17.3.0 in c:\\users\\12059\\anaconda3\\envs\\paddlepy38\\lib\\site-packages (from aiohttp->datasets>=2.0.0->paddlenlp) (24.2.0)\n",
      "Requirement already satisfied: frozenlist>=1.1.1 in c:\\users\\12059\\anaconda3\\envs\\paddlepy38\\lib\\site-packages (from aiohttp->datasets>=2.0.0->paddlenlp) (1.5.0)\n",
      "Requirement already satisfied: multidict<7.0,>=4.5 in c:\\users\\12059\\anaconda3\\envs\\paddlepy38\\lib\\site-packages (from aiohttp->datasets>=2.0.0->paddlenlp) (6.1.0)\n",
      "Requirement already satisfied: yarl<2.0,>=1.12.0 in c:\\users\\12059\\anaconda3\\envs\\paddlepy38\\lib\\site-packages (from aiohttp->datasets>=2.0.0->paddlenlp) (1.15.2)\n",
      "Requirement already satisfied: async-timeout<6.0,>=4.0 in c:\\users\\12059\\anaconda3\\envs\\paddlepy38\\lib\\site-packages (from aiohttp->datasets>=2.0.0->paddlenlp) (5.0.1)\n",
      "Requirement already satisfied: MarkupSafe>=2.0 in c:\\users\\12059\\anaconda3\\envs\\paddlepy38\\lib\\site-packages (from Jinja2>=3.1->Flask-Babel->paddlenlp) (2.1.3)\n",
      "Requirement already satisfied: mdurl~=0.1 in c:\\users\\12059\\anaconda3\\envs\\paddlepy38\\lib\\site-packages (from markdown-it-py>=2.2.0->rich->paddlenlp) (0.1.2)\n",
      "Requirement already satisfied: annotated-types>=0.6.0 in c:\\users\\12059\\anaconda3\\envs\\paddlepy38\\lib\\site-packages (from pydantic!=1.8,!=1.8.1,!=2.0.0,!=2.0.1,!=2.1.0,<3.0.0,>=1.7.4->fastapi->paddlenlp) (0.7.0)\n",
      "Requirement already satisfied: pydantic-core==2.27.1 in c:\\users\\12059\\anaconda3\\envs\\paddlepy38\\lib\\site-packages (from pydantic!=1.8,!=1.8.1,!=2.0.0,!=2.0.1,!=2.1.0,<3.0.0,>=1.7.4->fastapi->paddlenlp) (2.27.1)\n",
      "Requirement already satisfied: charset-normalizer<4,>=2 in c:\\users\\12059\\anaconda3\\envs\\paddlepy38\\lib\\site-packages (from requests>=2.32.2->datasets>=2.0.0->paddlenlp) (3.3.2)\n",
      "Requirement already satisfied: idna<4,>=2.5 in c:\\users\\12059\\anaconda3\\envs\\paddlepy38\\lib\\site-packages (from requests>=2.32.2->datasets>=2.0.0->paddlenlp) (3.7)\n",
      "Requirement already satisfied: urllib3<3,>=1.21.1 in c:\\users\\12059\\anaconda3\\envs\\paddlepy38\\lib\\site-packages (from requests>=2.32.2->datasets>=2.0.0->paddlenlp) (2.2.3)\n",
      "Requirement already satisfied: certifi>=2017.4.17 in c:\\users\\12059\\anaconda3\\envs\\paddlepy38\\lib\\site-packages (from requests>=2.32.2->datasets>=2.0.0->paddlenlp) (2024.8.30)\n",
      "Requirement already satisfied: scipy>=1.5.0 in c:\\users\\12059\\anaconda3\\envs\\paddlepy38\\lib\\site-packages (from scikit-learn>=0.21.3->seqeval->paddlenlp) (1.10.1)\n",
      "Requirement already satisfied: joblib>=1.1.1 in c:\\users\\12059\\anaconda3\\envs\\paddlepy38\\lib\\site-packages (from scikit-learn>=0.21.3->seqeval->paddlenlp) (1.4.2)\n",
      "Requirement already satisfied: threadpoolctl>=2.0.0 in c:\\users\\12059\\anaconda3\\envs\\paddlepy38\\lib\\site-packages (from scikit-learn>=0.21.3->seqeval->paddlenlp) (3.5.0)\n",
      "Requirement already satisfied: anyio<5,>=3.4.0 in c:\\users\\12059\\anaconda3\\envs\\paddlepy38\\lib\\site-packages (from starlette<0.42.0,>=0.40.0->fastapi->paddlenlp) (4.2.0)\n",
      "Requirement already satisfied: pycryptodome>=3.8.0 in c:\\users\\12059\\anaconda3\\envs\\paddlepy38\\lib\\site-packages (from bce-python-sdk->visualdl->paddlenlp) (3.21.0)\n",
      "Requirement already satisfied: future>=0.6.0 in c:\\users\\12059\\anaconda3\\envs\\paddlepy38\\lib\\site-packages (from bce-python-sdk->visualdl->paddlenlp) (1.0.0)\n",
      "Requirement already satisfied: contourpy>=1.0.1 in c:\\users\\12059\\anaconda3\\envs\\paddlepy38\\lib\\site-packages (from matplotlib->visualdl->paddlenlp) (1.1.1)\n",
      "Requirement already satisfied: cycler>=0.10 in c:\\users\\12059\\anaconda3\\envs\\paddlepy38\\lib\\site-packages (from matplotlib->visualdl->paddlenlp) (0.12.1)\n",
      "Requirement already satisfied: fonttools>=4.22.0 in c:\\users\\12059\\anaconda3\\envs\\paddlepy38\\lib\\site-packages (from matplotlib->visualdl->paddlenlp) (4.55.2)\n",
      "Requirement already satisfied: kiwisolver>=1.0.1 in c:\\users\\12059\\anaconda3\\envs\\paddlepy38\\lib\\site-packages (from matplotlib->visualdl->paddlenlp) (1.4.7)\n",
      "Requirement already satisfied: pyparsing>=2.3.1 in c:\\users\\12059\\anaconda3\\envs\\paddlepy38\\lib\\site-packages (from matplotlib->visualdl->paddlenlp) (3.1.4)\n",
      "Requirement already satisfied: python-dateutil>=2.7 in c:\\users\\12059\\anaconda3\\envs\\paddlepy38\\lib\\site-packages (from matplotlib->visualdl->paddlenlp) (2.9.0.post0)\n",
      "Requirement already satisfied: importlib-resources>=3.2.0 in c:\\users\\12059\\anaconda3\\envs\\paddlepy38\\lib\\site-packages (from matplotlib->visualdl->paddlenlp) (6.4.0)\n",
      "Requirement already satisfied: tzdata>=2022.1 in c:\\users\\12059\\anaconda3\\envs\\paddlepy38\\lib\\site-packages (from pandas->datasets>=2.0.0->paddlenlp) (2024.2)\n",
      "Requirement already satisfied: sniffio>=1.1 in c:\\users\\12059\\anaconda3\\envs\\paddlepy38\\lib\\site-packages (from anyio<5,>=3.4.0->starlette<0.42.0,>=0.40.0->fastapi->paddlenlp) (1.3.0)\n",
      "Requirement already satisfied: exceptiongroup>=1.0.2 in c:\\users\\12059\\anaconda3\\envs\\paddlepy38\\lib\\site-packages (from anyio<5,>=3.4.0->starlette<0.42.0,>=0.40.0->fastapi->paddlenlp) (1.2.0)\n",
      "Requirement already satisfied: zipp>=0.5 in c:\\users\\12059\\anaconda3\\envs\\paddlepy38\\lib\\site-packages (from importlib-metadata>=3.6.0->Flask>=2.0->Flask-Babel->paddlenlp) (3.20.2)\n",
      "Requirement already satisfied: propcache>=0.2.0 in c:\\users\\12059\\anaconda3\\envs\\paddlepy38\\lib\\site-packages (from yarl<2.0,>=1.12.0->aiohttp->datasets>=2.0.0->paddlenlp) (0.2.0)\n"
     ]
    }
   ],
   "execution_count": 2
  },
  {
   "metadata": {
    "ExecuteTime": {
     "end_time": "2024-12-08T09:28:13.850001Z",
     "start_time": "2024-12-08T09:28:13.823918Z"
    }
   },
   "cell_type": "code",
   "source": [
    "import zipfile\n",
    "import os\n",
    "\n",
    "zip_file_path = '中文淘宝评论数据集.zip'\n",
    "extract_dir = './'\n",
    "\n",
    "try:\n",
    "    if not os.path.exists(zip_file_path):\n",
    "        raise FileNotFoundError(f\"ZIP 文件 '{zip_file_path}' 不存在。\")\n",
    "\n",
    "    if not os.path.exists(extract_dir):\n",
    "        os.makedirs(extract_dir)\n",
    "\n",
    "    with zipfile.ZipFile(zip_file_path, 'r') as zip_ref:\n",
    "        zip_ref.extractall(extract_dir)\n",
    "\n",
    "    print(f\"文件已成功解压到 '{extract_dir}' 目录。\")\n",
    "\n",
    "except zipfile.BadZipFile:\n",
    "    print(\"错误：提供的文件不是有效的 ZIP 文件或文件已损坏。\")\n",
    "except FileNotFoundError as e:\n",
    "    print(e)\n",
    "except Exception as e:\n",
    "    print(f\"发生了一个未预料的错误：{e}\")\n"
   ],
   "id": "1ae151cae591de83",
   "outputs": [
    {
     "name": "stdout",
     "output_type": "stream",
     "text": [
      "文件已成功解压到 './' 目录。\n"
     ]
    }
   ],
   "execution_count": 1
  },
  {
   "metadata": {},
   "cell_type": "markdown",
   "source": "# 数据处理\n",
   "id": "858bcc1517277931"
  },
  {
   "metadata": {},
   "cell_type": "markdown",
   "source": [
    "### 1.数据查看\n",
    "可见每条数据包含一句评论和对应的标签，{0: 'negative', 1: 'neutral', 2: 'positive'}分别对应负面、中立和积极情感"
   ],
   "id": "87cc1fab6fdfd245"
  },
  {
   "metadata": {
    "ExecuteTime": {
     "end_time": "2024-12-08T09:28:15.862250Z",
     "start_time": "2024-12-08T09:28:15.853241Z"
    }
   },
   "cell_type": "code",
   "source": [
    "with open( 'train.txt','r',encoding='utf-8') as f:\n",
    "    for i in range(9):  # 读取前9行\n",
    "        line = f.readline()\n",
    "        if not line:  # 如果行为空（文件行数少于6行），提前结束\n",
    "            break\n",
    "        print(line.strip())  # 去掉行尾的换行符并打印"
   ],
   "id": "3a2f86f80865d1c",
   "outputs": [
    {
     "name": "stdout",
     "output_type": "stream",
     "text": [
      "﻿质量 很棒 ！ 又 厚实 ， 就是 做工 不好 ， 就是 有点 味道 得 跑跑\n",
      "做工\n",
      "0\n",
      "很好 ， 很漂亮 ， 质量 问题 就 不知道 了 ， 得用 用 才 知道 ， 这个 快递 太 垃圾 了\n",
      "快递\n",
      "0\n",
      "价格 上面 反正 折扣 之后 就是 市场 销售价格 ， 搞 活动 也 就 随便说说 ， 挺好吃 的\n",
      "价格\n",
      "0\n"
     ]
    }
   ],
   "execution_count": 2
  },
  {
   "metadata": {
    "ExecuteTime": {
     "end_time": "2024-12-08T09:28:16.827240Z",
     "start_time": "2024-12-08T09:28:16.782447Z"
    }
   },
   "cell_type": "code",
   "source": [
    "def read(data_path):\n",
    "    data=['label'+'\\t'+'text_a\\n']\n",
    "    with open(data_path, 'r', encoding='utf-8-sig') as f:\n",
    "        lines=f.readlines()\n",
    "        # 三行为一条记录\n",
    "        for i in range(int(len(lines)/3)):\n",
    "            # 读取第一行为内容\n",
    "            word = lines[i*3].strip('\\n')\n",
    "            # 读取第三行为标签\n",
    "            label = lines[i*3+2].strip('\\n')\n",
    "            data.append(label+'\\t'+word+'\\n')\n",
    "            i=i+1\n",
    "    return data\n",
    "with open('formated_train.txt','w') as f:\n",
    "    f.writelines(read('train.txt'))\n",
    "\n",
    "with open('formated_test.txt','w') as f:\n",
    "    f.writelines(read('test.txt'))"
   ],
   "id": "e7463cb67d4f78ee",
   "outputs": [],
   "execution_count": 3
  },
  {
   "metadata": {},
   "cell_type": "markdown",
   "source": "转换后：",
   "id": "65ac5729b644d968"
  },
  {
   "metadata": {
    "ExecuteTime": {
     "end_time": "2024-12-08T09:28:18.917429Z",
     "start_time": "2024-12-08T09:28:18.911821Z"
    }
   },
   "cell_type": "code",
   "source": [
    "with open( 'formated_train.txt','r') as f:\n",
    "    for i in range(10):  # 读取前9行\n",
    "        line = f.readline()\n",
    "        if not line:  # 如果行为空（文件行数少于6行），提前结束\n",
    "            break\n",
    "        print(line.strip())  # 去掉行尾的换行符并打印"
   ],
   "id": "d7ecd4f5d5e31612",
   "outputs": [
    {
     "name": "stdout",
     "output_type": "stream",
     "text": [
      "label\ttext_a\n",
      "0\t质量 很棒 ！ 又 厚实 ， 就是 做工 不好 ， 就是 有点 味道 得 跑跑\n",
      "0\t很好 ， 很漂亮 ， 质量 问题 就 不知道 了 ， 得用 用 才 知道 ， 这个 快递 太 垃圾 了\n",
      "0\t价格 上面 反正 折扣 之后 就是 市场 销售价格 ， 搞 活动 也 就 随便说说 ， 挺好吃 的\n",
      "0\t漂亮 好看 质量 好 就是 快递 不 给力 ， 派个件 要 派 两天\n",
      "0\t宝贝 很 满意 ， 发小 刚刚 好 ， 质量 也 不错 ， 值得 购买 ， 就是 快递 太慢 ， 昨天 才 到\n",
      "0\t行李箱 就 不错 啊 ！ 看上去 是 挺 结实 的 等 用 了 才 知道 是不是 真的 好 ！ 拉链 也 很 顺滑 ！ 快递 太差 ， 太慢\n",
      "0\t质量 很好 ， 发货 很快 ， 果断 给 好评 ！ 快递 小哥 有些 烦 ， 让 他 等 我 五分钟 ， 结果 五分钟 内 打 了 三次 电话 ！\n",
      "0\t颜色 很小 清新 ， 和 图片 一样 的 ， 送 的 贴纸 很 可爱 。 轮子 在 瓷砖 上 走 挺 小声 的 ， 要是 细节 处理 好 一点 就 完美 了 。 性价比 高 。 快递 没打 满分 一 是因为 不 给 送货 ， 二是 我 说 等验 完货 在 签 ， 她们 就 给 我 脸色 看 。\n",
      "0\t虽然 安装 师傅 不 给力 ， 但是 东西 真的 很 给力 ！ 很 喜欢 好评 ！\n"
     ]
    }
   ],
   "execution_count": 4
  },
  {
   "metadata": {
    "ExecuteTime": {
     "end_time": "2024-12-08T09:28:19.709742Z",
     "start_time": "2024-12-08T09:28:19.699862Z"
    }
   },
   "cell_type": "code",
   "source": [
    "with open( 'formated_test.txt','r') as f:\n",
    "    for i in range(10):  # 读取前9行\n",
    "        line = f.readline()\n",
    "        if not line:  # 如果行为空（文件行数少于6行），提前结束\n",
    "            break\n",
    "        print(line.strip())  # 去掉行尾的换行符并打印"
   ],
   "id": "23f01c6ae137ac34",
   "outputs": [
    {
     "name": "stdout",
     "output_type": "stream",
     "text": [
      "label\ttext_a\n",
      "0\t非常 漂亮 的 拉杆箱 ， 很 轻 ， 跟 店家 描述 的 一致 ， 快递 速度 不行 啊\n",
      "0\t款式 设计 的 很 好看 呀 ， 客服 态度 很好 ， 呃 ， 质量 感觉 不太好 奥 ， 就是 会 起球 ， 而且 快递 好慢 啊\n",
      "0\t超值 啊 哈哈哈 ， 就是 颜色 随机 我以 为什么 颜色 都 有 ， 结果 全是 一个 颜色 的 ， 不过 东西 好 就 可以 ， 物超所值 。\n",
      "0\t卖家 很好 ， 热情周到 ， 包装 严实 ， 遇到 快递 问题 都 极力 解决 。 我要 投诉 快递 ， 太差 了 。\n",
      "0\t比 想象 的 要 好得多 ， 音效 特别 好 ， 还 带 环绕 音 ， 总之 很 喜欢 ， 就是 这个 价格 不是 很 实惠\n",
      "0\t买大 了 一点 ， 不过 也 能 穿 ， 孩子 很 喜欢 ， 三件套 的 ， 春秋 都 可以 穿 ， 质量 还可以 ， 蓝色 的 绒 颜色 感觉 有点 陈旧 ， 还有 就是 有点 小贵 。 快递 公司 有点 小 差错 ， 不过 老板 很快 就 解决 了 。\n",
      "0\t质量 一般 ， 边板 是 多层板 ， 快递 太慢 了 ， 2 月 8 日 发货 ， 21 日才 到 。\n",
      "0\t挺好 的 ， 店家 很 用心 ， 包装 的 非常 好 ， 只是 快递 方面 太慢 了 ， 希望 这方面 还是 改进 下 ！\n",
      "0\t好吃 好吃 ， 就是 分量 太少 了 ， 有点 贵咯\n"
     ]
    }
   ],
   "execution_count": 5
  },
  {
   "metadata": {
    "ExecuteTime": {
     "end_time": "2024-12-08T09:28:23.250171Z",
     "start_time": "2024-12-08T09:28:20.496148Z"
    }
   },
   "cell_type": "code",
   "source": [
    "from paddlenlp.datasets import load_dataset\n",
    "\n",
    "def read(data_path):\n",
    "    with open(data_path, 'r') as f:\n",
    "        # 跳过列名\n",
    "        next(f)\n",
    "        for line in f:\n",
    "            label,  word= line.strip('\\n').split('\\t')\n",
    "            yield {'text': word, 'label': label}\n",
    "\n",
    "# data_path为read()方法的参数\n",
    "train_ds = load_dataset(read, data_path='formated_train.txt',lazy=False)\n",
    "test_ds = load_dataset(read, data_path='formated_test.txt',lazy=False)\n",
    "dev_ds = load_dataset(read, data_path='formated_test.txt',lazy=False)"
   ],
   "id": "209a19502c6e8cb3",
   "outputs": [
    {
     "name": "stderr",
     "output_type": "stream",
     "text": [
      "C:\\Users\\12059\\anaconda3\\envs\\paddlepy38\\lib\\site-packages\\_distutils_hack\\__init__.py:31: UserWarning: Setuptools is replacing distutils. Support for replacing an already imported distutils is deprecated. In the future, this condition will fail. Register concerns at https://github.com/pypa/setuptools/issues/new?template=distutils-deprecation.yml\n",
      "  warnings.warn(\n"
     ]
    }
   ],
   "execution_count": 6
  },
  {
   "metadata": {
    "ExecuteTime": {
     "end_time": "2024-12-08T09:28:23.327660Z",
     "start_time": "2024-12-08T09:28:23.316422Z"
    }
   },
   "cell_type": "code",
   "source": [
    "print(len(train_ds))\n",
    "print(train_ds.label_list)\n",
    "for idx in range(10):\n",
    "    print(train_ds[idx])"
   ],
   "id": "95693f2434856555",
   "outputs": [
    {
     "name": "stdout",
     "output_type": "stream",
     "text": [
      "13339\n",
      "None\n",
      "{'text': '质量 很棒 ！ 又 厚实 ， 就是 做工 不好 ， 就是 有点 味道 得 跑跑', 'label': '0'}\n",
      "{'text': '很好 ， 很漂亮 ， 质量 问题 就 不知道 了 ， 得用 用 才 知道 ， 这个 快递 太 垃圾 了', 'label': '0'}\n",
      "{'text': '价格 上面 反正 折扣 之后 就是 市场 销售价格 ， 搞 活动 也 就 随便说说 ， 挺好吃 的', 'label': '0'}\n",
      "{'text': '漂亮 好看 质量 好 就是 快递 不 给力 ， 派个件 要 派 两天', 'label': '0'}\n",
      "{'text': '宝贝 很 满意 ， 发小 刚刚 好 ， 质量 也 不错 ， 值得 购买 ， 就是 快递 太慢 ， 昨天 才 到', 'label': '0'}\n",
      "{'text': '行李箱 就 不错 啊 ！ 看上去 是 挺 结实 的 等 用 了 才 知道 是不是 真的 好 ！ 拉链 也 很 顺滑 ！ 快递 太差 ， 太慢', 'label': '0'}\n",
      "{'text': '质量 很好 ， 发货 很快 ， 果断 给 好评 ！ 快递 小哥 有些 烦 ， 让 他 等 我 五分钟 ， 结果 五分钟 内 打 了 三次 电话 ！', 'label': '0'}\n",
      "{'text': '颜色 很小 清新 ， 和 图片 一样 的 ， 送 的 贴纸 很 可爱 。 轮子 在 瓷砖 上 走 挺 小声 的 ， 要是 细节 处理 好 一点 就 完美 了 。 性价比 高 。 快递 没打 满分 一 是因为 不 给 送货 ， 二是 我 说 等验 完货 在 签 ， 她们 就 给 我 脸色 看 。', 'label': '0'}\n",
      "{'text': '虽然 安装 师傅 不 给力 ， 但是 东西 真的 很 给力 ！ 很 喜欢 好评 ！', 'label': '0'}\n",
      "{'text': '外观 还可以 ， 送 了 很多 贴画 ， 蛮 细心 的 。 快递 送 在 超市 门口 打个 电话 就 走 了 ， 结果 被 别人 拿走 了 ， 好歹 又 送 回来 了 & hellip ; & hellip ; 真是 糟心 ！', 'label': '0'}\n"
     ]
    }
   ],
   "execution_count": 7
  },
  {
   "metadata": {
    "ExecuteTime": {
     "end_time": "2024-12-08T09:28:23.436441Z",
     "start_time": "2024-12-08T09:28:23.422450Z"
    }
   },
   "cell_type": "code",
   "source": "",
   "id": "5a5c83ce24d3daa1",
   "outputs": [],
   "execution_count": null
  },
  {
   "metadata": {},
   "cell_type": "markdown",
   "source": "# 使用预训练模型",
   "id": "1431144399d3aa3f"
  },
  {
   "metadata": {},
   "cell_type": "markdown",
   "source": "### 1.选取预训练模型",
   "id": "7c66187866e2b367"
  },
  {
   "metadata": {
    "ExecuteTime": {
     "end_time": "2024-12-08T09:28:25.670352Z",
     "start_time": "2024-12-08T09:28:24.045471Z"
    }
   },
   "cell_type": "code",
   "source": [
    "import paddlenlp as ppnlp\n",
    "\n",
    "# 设置想要使用模型的名称\n",
    "MODEL_NAME = \"ernie-1.0\"\n",
    "ernie_model  = ppnlp.transformers.ErnieModel.from_pretrained(MODEL_NAME)\n",
    "model = ppnlp.transformers.ErnieForSequenceClassification.from_pretrained(MODEL_NAME, num_classes=3)"
   ],
   "id": "db7ca881e625f818",
   "outputs": [
    {
     "name": "stderr",
     "output_type": "stream",
     "text": [
      "\u001B[32m[2024-12-08 17:28:24,046] [    INFO]\u001B[0m - Already cached C:\\Users\\12059\\.paddlenlp\\models\\ernie-1.0\\model_state.pdparams\u001B[0m\n",
      "\u001B[32m[2024-12-08 17:28:24,047] [    INFO]\u001B[0m - Loading weights file model_state.pdparams from cache at C:\\Users\\12059\\.paddlenlp\\models\\ernie-1.0\\model_state.pdparams\u001B[0m\n",
      "\u001B[32m[2024-12-08 17:28:24,356] [    INFO]\u001B[0m - Loaded weights file from disk, setting weights to model.\u001B[0m\n",
      "\u001B[33m[2024-12-08 17:28:24,924] [ WARNING]\u001B[0m - Some weights of the model checkpoint at ernie-1.0 were not used when initializing ErnieModel: ['cls.predictions.decoder_bias', 'cls.predictions.transform.weight', 'cls.predictions.layer_norm.bias', 'cls.predictions.layer_norm.weight', 'cls.predictions.transform.bias']\n",
      "- This IS expected if you are initializing ErnieModel from the checkpoint of a model trained on another task or with another architecture (e.g. initializing a BertForSequenceClassification model from a BertForPreTraining model).\n",
      "- This IS NOT expected if you are initializing ErnieModel from the checkpoint of a model that you expect to be exactly identical (initializing a BertForSequenceClassification model from a BertForSequenceClassification model).\u001B[0m\n",
      "\u001B[32m[2024-12-08 17:28:24,924] [    INFO]\u001B[0m - All the weights of ErnieModel were initialized from the model checkpoint at ernie-1.0.\n",
      "If your task is similar to the task the model of the checkpoint was trained on, you can already use ErnieModel for predictions without further training.\u001B[0m\n",
      "\u001B[32m[2024-12-08 17:28:24,964] [    INFO]\u001B[0m - Already cached C:\\Users\\12059\\.paddlenlp\\models\\ernie-1.0\\model_state.pdparams\u001B[0m\n",
      "\u001B[32m[2024-12-08 17:28:24,965] [    INFO]\u001B[0m - Loading weights file model_state.pdparams from cache at C:\\Users\\12059\\.paddlenlp\\models\\ernie-1.0\\model_state.pdparams\u001B[0m\n",
      "\u001B[32m[2024-12-08 17:28:25,210] [    INFO]\u001B[0m - Loaded weights file from disk, setting weights to model.\u001B[0m\n",
      "\u001B[33m[2024-12-08 17:28:25,633] [ WARNING]\u001B[0m - Some weights of the model checkpoint at ernie-1.0 were not used when initializing ErnieForSequenceClassification: ['cls.predictions.decoder_bias', 'cls.predictions.transform.weight', 'cls.predictions.layer_norm.bias', 'cls.predictions.layer_norm.weight', 'cls.predictions.transform.bias']\n",
      "- This IS expected if you are initializing ErnieForSequenceClassification from the checkpoint of a model trained on another task or with another architecture (e.g. initializing a BertForSequenceClassification model from a BertForPreTraining model).\n",
      "- This IS NOT expected if you are initializing ErnieForSequenceClassification from the checkpoint of a model that you expect to be exactly identical (initializing a BertForSequenceClassification model from a BertForSequenceClassification model).\u001B[0m\n",
      "\u001B[33m[2024-12-08 17:28:25,633] [ WARNING]\u001B[0m - Some weights of ErnieForSequenceClassification were not initialized from the model checkpoint at ernie-1.0 and are newly initialized: ['classifier.weight', 'classifier.bias']\n",
      "You should probably TRAIN this model on a down-stream task to be able to use it for predictions and inference.\u001B[0m\n"
     ]
    }
   ],
   "execution_count": 8
  },
  {
   "metadata": {},
   "cell_type": "markdown",
   "source": [
    "### 2.调用ppnlp.transformers.ErnieTokenizer进行数据处理\n",
    "\n",
    "预训练模型ERNIE对中文数据的处理是以字为单位。PaddleNLP对于各种预训练模型已经内置了相应的tokenizer。指定想要使用的模型名字即可加载对应的tokenizer。\n",
    "\n",
    "tokenizer作用为将原始输入文本转化成模型model可以接受的输入数据形式。\n",
    "\n",
    "![](https://bj.bcebos.com/paddlehub/paddlehub-img/ernie_network_1.png)\n",
    "\n",
    "![](https://bj.bcebos.com/paddlehub/paddlehub-img/ernie_network_2.png)"
   ],
   "id": "1b71cb1d2607ee4c"
  },
  {
   "metadata": {},
   "cell_type": "markdown",
   "source": "",
   "id": "c4abbca2a7a0e81f"
  },
  {
   "metadata": {
    "ExecuteTime": {
     "end_time": "2024-12-08T09:28:27.005997Z",
     "start_time": "2024-12-08T09:28:26.980794Z"
    }
   },
   "cell_type": "code",
   "source": "tokenizer = ppnlp.transformers.ErnieTokenizer.from_pretrained(MODEL_NAME)",
   "id": "dbbea2a14673cee9",
   "outputs": [
    {
     "name": "stderr",
     "output_type": "stream",
     "text": [
      "\u001B[32m[2024-12-08 17:28:26,981] [    INFO]\u001B[0m - Already cached C:\\Users\\12059\\.paddlenlp\\models\\ernie-1.0\\vocab.txt\u001B[0m\n",
      "\u001B[32m[2024-12-08 17:28:26,990] [    INFO]\u001B[0m - tokenizer config file saved in C:\\Users\\12059\\.paddlenlp\\models\\ernie-1.0\\tokenizer_config.json\u001B[0m\n",
      "\u001B[32m[2024-12-08 17:28:26,991] [    INFO]\u001B[0m - Special tokens file saved in C:\\Users\\12059\\.paddlenlp\\models\\ernie-1.0\\special_tokens_map.json\u001B[0m\n"
     ]
    }
   ],
   "execution_count": 9
  },
  {
   "metadata": {},
   "cell_type": "markdown",
   "source": [
    "从以上代码可以看出，ERNIE模型输出有2个tensor。\n",
    "\n",
    "* sequence_output是对应每个输入token的语义特征表示，shape为(1, num_tokens, hidden_size)。其一般用于序列标注、问答等任务。\n",
    "* pooled_output是对应整个句子的语义特征表示，shape为(1, hidden_size)。其一般用于文本分类、信息检索等任务。\\\n",
    "\n",
    "NOTE:\n",
    "\n",
    "* 如需使用ernie-tiny预训练模型，则对应的tokenizer应该使用paddlenlp.transformers.ErnieTinyTokenizer.from_pretrained('ernie-tiny')\n",
    "*\n",
    "* 以上代码示例展示了使用Transformer类预训练模型所需的数据处理步骤。为了更方便地使用，PaddleNLP同时提供了更加高阶API，一键即可返回模型所需数据格式。"
   ],
   "id": "eb300c13df6ac2d0"
  },
  {
   "metadata": {},
   "cell_type": "markdown",
   "source": [
    "### 3.数据读取\n",
    "使用paddle.io.DataLoader接口多线程异步加载数据。"
   ],
   "id": "22f7046ac431972"
  },
  {
   "metadata": {
    "ExecuteTime": {
     "end_time": "2024-12-08T09:28:46.487813Z",
     "start_time": "2024-12-08T09:28:46.474757Z"
    }
   },
   "cell_type": "code",
   "source": [
    "from functools import partial\n",
    "from paddlenlp.data import Stack, Tuple, Pad\n",
    "from utils import  convert_example, create_dataloader\n",
    "\n",
    "# 模型运行批处理大小\n",
    "batch_size = 1\n",
    "max_seq_length = 128\n",
    "\n",
    "trans_func = partial(\n",
    "    convert_example,\n",
    "    tokenizer=tokenizer,\n",
    "    max_seq_length=max_seq_length)\n",
    "batchify_fn = lambda samples, fn=Tuple(\n",
    "    Pad(axis=0, pad_val=tokenizer.pad_token_id),  # input\n",
    "    Pad(axis=0, pad_val=tokenizer.pad_token_type_id),  # segment\n",
    "    Stack(dtype=\"int64\")  # label\n",
    "): [data for data in fn(samples)]\n",
    "train_data_loader = create_dataloader(\n",
    "    train_ds,\n",
    "    mode='train',\n",
    "    batch_size=batch_size,\n",
    "    batchify_fn=batchify_fn,\n",
    "    trans_fn=trans_func)\n",
    "dev_data_loader = create_dataloader(\n",
    "    dev_ds,\n",
    "    mode='dev',\n",
    "    batch_size=batch_size,\n",
    "    batchify_fn=batchify_fn,\n",
    "    trans_fn=trans_func)"
   ],
   "id": "f9805d3e5462590",
   "outputs": [],
   "execution_count": 12
  },
  {
   "metadata": {},
   "cell_type": "markdown",
   "source": [
    "### 4.设置Fine-Tune优化策略，接入评价指标\n",
    "可自行更改训练参数"
   ],
   "id": "eea766673a10a56b"
  },
  {
   "metadata": {
    "ExecuteTime": {
     "end_time": "2024-12-08T09:28:50.664975Z",
     "start_time": "2024-12-08T09:28:50.652245Z"
    }
   },
   "cell_type": "code",
   "source": [
    "from paddlenlp.transformers import LinearDecayWithWarmup\n",
    "import paddle\n",
    "\n",
    "# 训练过程中的最大学习率\n",
    "learning_rate = 5e-5\n",
    "# 训练轮次\n",
    "epochs = 3 #3\n",
    "# 学习率预热比例\n",
    "warmup_proportion = 0.1\n",
    "# 权重衰减系数，类似模型正则项策略，避免模型过拟合\n",
    "weight_decay = 0.01\n",
    "\n",
    "num_training_steps = len(train_data_loader) * epochs\n",
    "lr_scheduler = LinearDecayWithWarmup(learning_rate, num_training_steps, warmup_proportion)\n",
    "optimizer = paddle.optimizer.AdamW(\n",
    "    learning_rate=lr_scheduler,\n",
    "    parameters=model.parameters(),\n",
    "    weight_decay=weight_decay,\n",
    "    apply_decay_param_fun=lambda x: x in [\n",
    "        p.name for n, p in model.named_parameters()\n",
    "        if not any(nd in n for nd in [\"bias\", \"norm\"])\n",
    "    ])\n",
    "\n",
    "criterion = paddle.nn.loss.CrossEntropyLoss()\n",
    "metric = paddle.metric.Accuracy()"
   ],
   "id": "755ffa0a2bdd4e02",
   "outputs": [],
   "execution_count": 13
  },
  {
   "metadata": {},
   "cell_type": "markdown",
   "source": [
    "# 模型训练与评估\n",
    "模型训练的过程通常有以下步骤：\n",
    "\n",
    "1. 从dataloader中取出一个batch data\n",
    "2. 将batch data喂给model，做前向计算\n",
    "3. 将前向计算结果传给损失函数，计算loss。将前向计算结果传给评价方法，计算评价指标。\n",
    "4. loss反向回传，更新梯度。重复以上步骤。\n",
    "\n",
    "每训练一个epoch时，程序将会评估一次，评估当前模型训练的效果。"
   ],
   "id": "32de288eed67b2e0"
  },
  {
   "metadata": {
    "jupyter": {
     "is_executing": true
    },
    "ExecuteTime": {
     "start_time": "2024-12-08T09:29:06.134110Z"
    }
   },
   "cell_type": "code",
   "source": [
    "import paddle.nn.functional as F\n",
    "from utils import evaluate\n",
    "\n",
    "global_step = 0\n",
    "for epoch in range(1, epochs + 1):\n",
    "    for step, batch in enumerate(train_data_loader, start=1):\n",
    "        print(\"0\")\n",
    "        input_ids, segment_ids, labels = batch\n",
    "        logits = model(input_ids, segment_ids)\n",
    "        loss = criterion(logits, labels)\n",
    "        probs = F.softmax(logits, axis=1)\n",
    "        correct = metric.compute(probs, labels)\n",
    "        metric.update(correct)\n",
    "        acc = metric.accumulate()\n",
    "        print(global_step)\n",
    "\n",
    "        global_step += 1\n",
    "        if global_step % 10 == 0 :\n",
    "            print(\"global step %d, epoch: %d, batch: %d, loss: %.5f, acc: %.5f\" % (global_step, epoch, step, loss, acc))\n",
    "        loss.backward()\n",
    "        optimizer.step()\n",
    "        lr_scheduler.step()\n",
    "        optimizer.clear_grad()\n",
    "    evaluate(model, criterion, metric, dev_data_loader)"
   ],
   "id": "76f575b96732f078",
   "outputs": [
    {
     "name": "stderr",
     "output_type": "stream",
     "text": [
      "C:\\Users\\12059\\anaconda3\\envs\\paddlepy38\\lib\\site-packages\\paddlenlp\\transformers\\tokenizer_utils_base.py:2293: FutureWarning: The `max_seq_len` argument is deprecated and will be removed in a future version, please use `max_length` instead.\n",
      "  warnings.warn(\n",
      "C:\\Users\\12059\\anaconda3\\envs\\paddlepy38\\lib\\site-packages\\paddlenlp\\transformers\\tokenizer_utils_base.py:1865: UserWarning: Truncation was not explicitly activated but `max_length` is provided a specific value, please use `truncation=True` to explicitly truncate examples to max length. Defaulting to 'longest_first' truncation strategy. If you encode pairs of sequences (GLUE-style) with the tokenizer you can select this strategy more precisely by providing a specific strategy to `truncation`.\n",
      "  warnings.warn(\n",
      "Exception in thread Thread-5:\n",
      "Traceback (most recent call last):\n",
      "  File \"C:\\Users\\12059\\anaconda3\\envs\\paddlepy38\\lib\\threading.py\", line 932, in _bootstrap_inner\n",
      "    self.run()\n",
      "  File \"C:\\Users\\12059\\anaconda3\\envs\\paddlepy38\\lib\\site-packages\\ipykernel\\ipkernel.py\", line 766, in run_closure\n",
      "    _threading_Thread_run(self)\n",
      "  File \"C:\\Users\\12059\\anaconda3\\envs\\paddlepy38\\lib\\threading.py\", line 870, in run\n",
      "    self._target(*self._args, **self._kwargs)\n",
      "  File \"C:\\Users\\12059\\anaconda3\\envs\\paddlepy38\\lib\\site-packages\\paddle\\io\\dataloader\\dataloader_iter.py\", line 242, in _thread_loop\n",
      "    batch = self._dataset_fetcher.fetch(\n",
      "  File \"C:\\Users\\12059\\anaconda3\\envs\\paddlepy38\\lib\\site-packages\\paddle\\io\\dataloader\\fetcher.py\", line 77, in fetch\n",
      "    data.append(self.dataset[idx])\n",
      "  File \"C:\\Users\\12059\\anaconda3\\envs\\paddlepy38\\lib\\site-packages\\paddlenlp\\datasets\\dataset.py\", line 263, in __getitem__\n",
      "    return self._transform(self.new_data[idx]) if self._transform_pipline else self.new_data[idx]\n",
      "  File \"C:\\Users\\12059\\anaconda3\\envs\\paddlepy38\\lib\\site-packages\\paddlenlp\\datasets\\dataset.py\", line 255, in _transform\n",
      "    data = fn(data)\n",
      "  File \"C:\\Users\\12059\\Desktop\\NLP_paddle\\utils.py\", line 123, in convert_example\n",
      "    encoded_inputs = tokenizer(text=example[\"text\"], max_seq_len=max_seq_length)\n",
      "TypeError: tuple indices must be integers or slices, not str\n"
     ]
    }
   ],
   "execution_count": null
  },
  {
   "metadata": {},
   "cell_type": "code",
   "outputs": [],
   "execution_count": null,
   "source": [
    "from utils import predict\n",
    "\n",
    "data = [\n",
    "    {\"text\":'数据挖掘课程非常的有趣，学到了很多东西。'},\n",
    "    {\"text\":'高等数学课程有点困难，我学起来力不从心。'},\n",
    "    {\"text\":'一食堂的饭菜感觉都是预制菜，菜品种类也不多，总体来说一般。'},\n",
    "]\n",
    "label_map = {0: '负面', 1: '中立', 2: '正面'}\n",
    "\n",
    "results = predict(\n",
    "    model, data, tokenizer, label_map, batch_size=batch_size)\n",
    "for idx, text in enumerate(data):\n",
    "    print('预测: {} \\t 情感: {}'.format(text, results[idx]))"
   ],
   "id": "ebfd508836d5157f"
  },
  {
   "metadata": {},
   "cell_type": "code",
   "outputs": [],
   "execution_count": null,
   "source": "",
   "id": "1dadb5e9a2dc82f8"
  }
 ],
 "metadata": {
  "kernelspec": {
   "display_name": "Python 3",
   "language": "python",
   "name": "python3"
  },
  "language_info": {
   "codemirror_mode": {
    "name": "ipython",
    "version": 2
   },
   "file_extension": ".py",
   "mimetype": "text/x-python",
   "name": "python",
   "nbconvert_exporter": "python",
   "pygments_lexer": "ipython2",
   "version": "2.7.6"
  }
 },
 "nbformat": 4,
 "nbformat_minor": 5
}
